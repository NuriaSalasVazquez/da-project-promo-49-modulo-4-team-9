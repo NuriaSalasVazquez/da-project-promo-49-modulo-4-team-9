{
 "cells": [
  {
   "cell_type": "code",
   "execution_count": 1,
   "metadata": {},
   "outputs": [],
   "source": [
    "import pandas as pd\n",
    "pd.set_option('display.max_columns', None)\n",
    "pd.set_option('display.max_rows', None)\n",
    "\n",
    "# Apertura archivo .dat.gz\n",
    "import gzip\n",
    "\n",
    "# Tratamiento de datos\n",
    "import numpy as np\n",
    "\n",
    "#Útil en: comparaciones de variables en análisis de datos, creación de combinaciones para modelos, evaluación de correlaciones entre pares de variables\n",
    "from itertools import combinations\n",
    "\n",
    "# Imputación de nulos usando métodos avanzados estadísticos\n",
    "from sklearn.impute import SimpleImputer\n",
    "from sklearn.experimental import enable_iterative_imputer\n",
    "from sklearn.impute import IterativeImputer\n",
    "from sklearn.impute import KNNImputer\n",
    "\n",
    "\n",
    "# Gestión de los warnings\n",
    "import warnings\n",
    "warnings.filterwarnings(\"ignore\")\n",
    "\n",
    "# Visualización\n",
    "import matplotlib.pyplot as plt\n",
    "import seaborn as sns"
   ]
  },
  {
   "cell_type": "code",
   "execution_count": 2,
   "metadata": {},
   "outputs": [
    {
     "data": {
      "text/html": [
       "<div>\n",
       "<style scoped>\n",
       "    .dataframe tbody tr th:only-of-type {\n",
       "        vertical-align: middle;\n",
       "    }\n",
       "\n",
       "    .dataframe tbody tr th {\n",
       "        vertical-align: top;\n",
       "    }\n",
       "\n",
       "    .dataframe thead th {\n",
       "        text-align: right;\n",
       "    }\n",
       "</style>\n",
       "<table border=\"1\" class=\"dataframe\">\n",
       "  <thead>\n",
       "    <tr style=\"text-align: right;\">\n",
       "      <th></th>\n",
       "      <th>BALLOT</th>\n",
       "      <th>WRKSTAT</th>\n",
       "      <th>INDUSTRY</th>\n",
       "      <th>AGE</th>\n",
       "      <th>SEX</th>\n",
       "      <th>RINCOME</th>\n",
       "      <th>HAPPY</th>\n",
       "      <th>HAPMAR</th>\n",
       "      <th>HAPCOHAB</th>\n",
       "      <th>JOBLOSE</th>\n",
       "      <th>SATJOB</th>\n",
       "      <th>FEJOBAFF</th>\n",
       "      <th>DISCAFFM</th>\n",
       "      <th>DISCAFFW</th>\n",
       "      <th>FEHIRE</th>\n",
       "      <th>PROMTEFR</th>\n",
       "      <th>WKHARSEX</th>\n",
       "      <th>WKHAROTH</th>\n",
       "      <th>SATJOB1</th>\n",
       "      <th>SEXHAR</th>\n",
       "      <th>HAPPY7</th>\n",
       "      <th>HAPUNHAP</th>\n",
       "      <th>UNHAPPY</th>\n",
       "      <th>HLTHDEP</th>\n",
       "      <th>ID_</th>\n",
       "      <th>YEAR</th>\n",
       "    </tr>\n",
       "  </thead>\n",
       "  <tbody>\n",
       "    <tr>\n",
       "      <th>0</th>\n",
       "      <td>1</td>\n",
       "      <td>3</td>\n",
       "      <td>-70</td>\n",
       "      <td>43</td>\n",
       "      <td>1</td>\n",
       "      <td>-90</td>\n",
       "      <td>2</td>\n",
       "      <td>-100</td>\n",
       "      <td>-100</td>\n",
       "      <td>4</td>\n",
       "      <td>1</td>\n",
       "      <td>4</td>\n",
       "      <td>3</td>\n",
       "      <td>-100</td>\n",
       "      <td>-100</td>\n",
       "      <td>2</td>\n",
       "      <td>2</td>\n",
       "      <td>2</td>\n",
       "      <td>2</td>\n",
       "      <td>-100</td>\n",
       "      <td>-100</td>\n",
       "      <td>2</td>\n",
       "      <td>-100</td>\n",
       "      <td>-70</td>\n",
       "      <td>1</td>\n",
       "      <td>2018</td>\n",
       "    </tr>\n",
       "    <tr>\n",
       "      <th>1</th>\n",
       "      <td>3</td>\n",
       "      <td>5</td>\n",
       "      <td>-70</td>\n",
       "      <td>74</td>\n",
       "      <td>2</td>\n",
       "      <td>-100</td>\n",
       "      <td>1</td>\n",
       "      <td>-100</td>\n",
       "      <td>-100</td>\n",
       "      <td>-100</td>\n",
       "      <td>-100</td>\n",
       "      <td>-100</td>\n",
       "      <td>-100</td>\n",
       "      <td>-100</td>\n",
       "      <td>-100</td>\n",
       "      <td>-100</td>\n",
       "      <td>-100</td>\n",
       "      <td>-100</td>\n",
       "      <td>-100</td>\n",
       "      <td>-100</td>\n",
       "      <td>-100</td>\n",
       "      <td>-100</td>\n",
       "      <td>1</td>\n",
       "      <td>-70</td>\n",
       "      <td>2</td>\n",
       "      <td>2018</td>\n",
       "    </tr>\n",
       "    <tr>\n",
       "      <th>2</th>\n",
       "      <td>2</td>\n",
       "      <td>1</td>\n",
       "      <td>-70</td>\n",
       "      <td>42</td>\n",
       "      <td>1</td>\n",
       "      <td>12</td>\n",
       "      <td>1</td>\n",
       "      <td>1</td>\n",
       "      <td>-100</td>\n",
       "      <td>4</td>\n",
       "      <td>2</td>\n",
       "      <td>3</td>\n",
       "      <td>3</td>\n",
       "      <td>-100</td>\n",
       "      <td>-100</td>\n",
       "      <td>3</td>\n",
       "      <td>2</td>\n",
       "      <td>2</td>\n",
       "      <td>2</td>\n",
       "      <td>-100</td>\n",
       "      <td>-100</td>\n",
       "      <td>1</td>\n",
       "      <td>-100</td>\n",
       "      <td>-70</td>\n",
       "      <td>3</td>\n",
       "      <td>2018</td>\n",
       "    </tr>\n",
       "    <tr>\n",
       "      <th>3</th>\n",
       "      <td>2</td>\n",
       "      <td>1</td>\n",
       "      <td>-70</td>\n",
       "      <td>63</td>\n",
       "      <td>2</td>\n",
       "      <td>12</td>\n",
       "      <td>1</td>\n",
       "      <td>1</td>\n",
       "      <td>-100</td>\n",
       "      <td>4</td>\n",
       "      <td>1</td>\n",
       "      <td>-100</td>\n",
       "      <td>-100</td>\n",
       "      <td>3</td>\n",
       "      <td>2</td>\n",
       "      <td>3</td>\n",
       "      <td>2</td>\n",
       "      <td>2</td>\n",
       "      <td>1</td>\n",
       "      <td>-100</td>\n",
       "      <td>-100</td>\n",
       "      <td>-100</td>\n",
       "      <td>2</td>\n",
       "      <td>-70</td>\n",
       "      <td>4</td>\n",
       "      <td>2018</td>\n",
       "    </tr>\n",
       "    <tr>\n",
       "      <th>4</th>\n",
       "      <td>3</td>\n",
       "      <td>5</td>\n",
       "      <td>-70</td>\n",
       "      <td>71</td>\n",
       "      <td>1</td>\n",
       "      <td>-100</td>\n",
       "      <td>2</td>\n",
       "      <td>-100</td>\n",
       "      <td>-100</td>\n",
       "      <td>-100</td>\n",
       "      <td>-100</td>\n",
       "      <td>-100</td>\n",
       "      <td>-100</td>\n",
       "      <td>-100</td>\n",
       "      <td>-100</td>\n",
       "      <td>-100</td>\n",
       "      <td>-100</td>\n",
       "      <td>-100</td>\n",
       "      <td>-100</td>\n",
       "      <td>-100</td>\n",
       "      <td>-100</td>\n",
       "      <td>-100</td>\n",
       "      <td>1</td>\n",
       "      <td>-70</td>\n",
       "      <td>5</td>\n",
       "      <td>2018</td>\n",
       "    </tr>\n",
       "  </tbody>\n",
       "</table>\n",
       "</div>"
      ],
      "text/plain": [
       "   BALLOT  WRKSTAT  INDUSTRY  AGE  SEX  RINCOME  HAPPY  HAPMAR  HAPCOHAB  \\\n",
       "0       1        3       -70   43    1      -90      2    -100      -100   \n",
       "1       3        5       -70   74    2     -100      1    -100      -100   \n",
       "2       2        1       -70   42    1       12      1       1      -100   \n",
       "3       2        1       -70   63    2       12      1       1      -100   \n",
       "4       3        5       -70   71    1     -100      2    -100      -100   \n",
       "\n",
       "   JOBLOSE  SATJOB  FEJOBAFF  DISCAFFM  DISCAFFW  FEHIRE  PROMTEFR  WKHARSEX  \\\n",
       "0        4       1         4         3      -100    -100         2         2   \n",
       "1     -100    -100      -100      -100      -100    -100      -100      -100   \n",
       "2        4       2         3         3      -100    -100         3         2   \n",
       "3        4       1      -100      -100         3       2         3         2   \n",
       "4     -100    -100      -100      -100      -100    -100      -100      -100   \n",
       "\n",
       "   WKHAROTH  SATJOB1  SEXHAR  HAPPY7  HAPUNHAP  UNHAPPY  HLTHDEP  ID_  YEAR  \n",
       "0         2        2    -100    -100         2     -100      -70    1  2018  \n",
       "1      -100     -100    -100    -100      -100        1      -70    2  2018  \n",
       "2         2        2    -100    -100         1     -100      -70    3  2018  \n",
       "3         2        1    -100    -100      -100        2      -70    4  2018  \n",
       "4      -100     -100    -100    -100      -100        1      -70    5  2018  "
      ]
     },
     "execution_count": 2,
     "metadata": {},
     "output_type": "execute_result"
    }
   ],
   "source": [
    "# Ruta al archivo .dat\n",
    "file_path = \"files/GSS.dat\"\n",
    "\n",
    "# Definimos las posiciones (convertidas a índice base 0)\n",
    "colspecs = [\n",
    "    (0, 2), (2, 6), (6, 10), (10, 15), (15, 20),\n",
    "    (20, 25), (25, 29), (29, 34), (34, 39), (39, 44),\n",
    "    (44, 49), (49, 54), (54, 59), (59, 64), (64, 69),\n",
    "    (69, 74), (74, 79), (79, 84), (84, 89), (89, 94),\n",
    "    (94, 99), (99, 104), (104, 109), (109, 114), (114, 119),\n",
    "    (119, 124)\n",
    "]\n",
    "\n",
    "column_names = [\n",
    "    'BALLOT', 'WRKSTAT', 'INDUSTRY', 'AGE', 'SEX',\n",
    "    'RINCOME', 'HAPPY', 'HAPMAR', 'HAPCOHAB', 'JOBLOSE',\n",
    "    'SATJOB', 'FEJOBAFF', 'DISCAFFM', 'DISCAFFW', 'FEHIRE',\n",
    "    'PROMTEFR', 'WKHARSEX', 'WKHAROTH', 'SATJOB1', 'SEXHAR',\n",
    "    'HAPPY7', 'HAPUNHAP', 'UNHAPPY', 'HLTHDEP', 'ID_', 'YEAR'\n",
    "]\n",
    "\n",
    "# Cargar el archivo\n",
    "gss = pd.read_fwf(file_path, colspecs=colspecs, names=column_names)\n",
    "\n",
    "# Mostrar una muestra\n",
    "gss.head()\n"
   ]
  },
  {
   "cell_type": "code",
   "execution_count": 3,
   "metadata": {},
   "outputs": [
    {
     "data": {
      "text/plain": [
       "(9924, 26)"
      ]
     },
     "execution_count": 3,
     "metadata": {},
     "output_type": "execute_result"
    }
   ],
   "source": [
    "gss.shape"
   ]
  },
  {
   "cell_type": "code",
   "execution_count": 4,
   "metadata": {},
   "outputs": [
    {
     "data": {
      "text/plain": [
       "HAPPY7\n",
       "-100    7600\n",
       " 3       865\n",
       " 2       782\n",
       " 1       282\n",
       " 4       175\n",
       " 5       123\n",
       "-98       43\n",
       " 6        34\n",
       " 7         8\n",
       "-97        7\n",
       "-99        5\n",
       "Name: count, dtype: int64"
      ]
     },
     "execution_count": 4,
     "metadata": {},
     "output_type": "execute_result"
    }
   ],
   "source": [
    "gss[\"HAPPY7\"].value_counts()"
   ]
  },
  {
   "cell_type": "markdown",
   "metadata": {},
   "source": [
    "\n",
    "\n",
    "label values JOBLOSE   GSP009X;\n",
    "label values SATJOB   GSP010X;\n",
    "label values FEJOBAFF   GSP011X;\n",
    "label values DISCAFFM   GSP012X;\n",
    "label values DISCAFFW   GSP013X;\n",
    "label values FEHIRE   GSP014X;\n",
    "label values PROMTEFR   GSP015X;\n",
    "label values WKHARSEX   GSP016X;\n",
    "label values WKHAROTH   GSP017X;\n",
    "label values SATJOB1   GSP018X;\n",
    "label values SEXHAR   GSP019X;\n",
    "label values HAPPY7   GSP020X;\n",
    "label values HAPUNHAP   GSP021X;\n",
    "label values BALLOT   GSP022X;\n",
    "label values UNHAPPY   GSP023X;\n",
    "label values HLTHDEP   GSP024X;"
   ]
  },
  {
   "cell_type": "code",
   "execution_count": 5,
   "metadata": {},
   "outputs": [],
   "source": [
    "value_labels = {\n",
    "    \"WRKSTAT\": {\n",
    "        1: \"Working full time\", \n",
    "        2: \"Working part time\", \n",
    "        3: \"Job, but not at work\",\n",
    "        4: \"Unemployed\", \n",
    "        5: \"Retired\", \n",
    "        6: \"In school\", \n",
    "        7: \"Keeping house\", \n",
    "        8: \"Other\",\n",
    "        -99: \"Unk\", \n",
    "        -98: \"Unk\", \n",
    "        -97: \"Unk\", \n",
    "        -100: \"Unk\"\n",
    "    },\n",
    "    \"SEX\": {\n",
    "        1: \"Male\", \n",
    "        2: \"Female\",\n",
    "        -99: \"Unk\", \n",
    "        -98: \"Unk\"\n",
    "    },\n",
    "    \"HAPPY\": {\n",
    "        -96: 'Unk',\n",
    "        -95: 'Unk',\n",
    "        -90: 'Unk',\n",
    "        -80: 'Unk',\n",
    "        -70: 'Unk',\n",
    "        -60: 'Unk',\n",
    "        -50: 'Unk',\n",
    "        -40: 'Unk',\n",
    "        1: 'Very happy',\n",
    "        2: 'Pretty happy',\n",
    "        3: 'Not too happy',\n",
    "        -100: 'Unk',\n",
    "        -99: 'Unk',\n",
    "        -98: 'Unk',\n",
    "        -97: 'Unk'\n",
    "    },\n",
    "\n",
    "    \"RINCOME\": {\n",
    "        12: \"$25000 OR MORE\",\n",
    "        11: \"$20000 - 24999\",\n",
    "        10: \"$15000 - 19999\",\n",
    "        9: \"$10000 - 14999\",\n",
    "        8: \"$8000 TO 9999\",\n",
    "        7: \"$7000 TO 7999\",\n",
    "        6: \"$6000 TO 6999\",\n",
    "        5: \"$5000 TO 5999\",\n",
    "        4: \"$4000 TO 4999\",\n",
    "        3: \"$3000 TO 3999\",\n",
    "        2: \"$1000 TO 2999\",\n",
    "        1: \"LT $1000\",\n",
    "        -99: \"Unk\",\n",
    "        -98: \"Unk\",\n",
    "        -90: \"Unk\",\n",
    "        13: \"Unk\",\n",
    "        -97: \"Unk\",\n",
    "        -96: \"Unk\",\n",
    "        -95: \"Unk\",\n",
    "        -70: \"Unk\",\n",
    "        -60: \"Unk\",\n",
    "        -50: \"Unk\",\n",
    "        -40: \"Unk\",\n",
    "        98: \"Unk\",\n",
    "        -100: \"Unk\",\n",
    "        -80: \"Unk\"\n",
    "    },\n",
    "\n",
    "    \"HAPMAR\": {-96: 'Unk',\n",
    "        -95: 'Unk',\n",
    "        -90: 'Unk',\n",
    "        -80: 'Unk',\n",
    "        -70: 'Unk',\n",
    "        -60: 'Unk',\n",
    "        -50: 'Unk',\n",
    "        -40: 'Unk',\n",
    "        1: 'Very happy',\n",
    "        2: 'Pretty happy',\n",
    "        3: 'Not too happy',\n",
    "        -100: 'Unk',\n",
    "        -99: 'Unk',\n",
    "        -98: 'Unk',\n",
    "        -97: 'v'\n",
    "    },\n",
    "\n",
    "    \"HAPCOHAB\": {-96: 'Unk',\n",
    "        -95: 'Unk',\n",
    "        -90: 'Unk',\n",
    "        -80: 'Unk',\n",
    "        -70: 'Unk',\n",
    "        -60: 'Unk',\n",
    "        -50: 'Unk',\n",
    "        -40: 'Unk',\n",
    "        1: 'Very happy',\n",
    "        2: 'Pretty happy',\n",
    "        3: 'Not too happy',\n",
    "        -100: 'Unk',\n",
    "        -99: 'Unk',\n",
    "        -98: 'Unk',\n",
    "        -97: 'Unk'\n",
    "    },\n",
    "    \"JOBLOSE\": { \n",
    "        -96: 'Unk',\n",
    "        -95: 'Unk',\n",
    "        -90: 'Unk',\n",
    "        -80: 'Unk',\n",
    "        -70: 'Unk',\n",
    "        -60: 'Unk',\n",
    "        -50: 'Unk',\n",
    "        -40: 'Unk',\n",
    "        1: \"Very likely\",\n",
    "        2: \"Fairly likely\",\n",
    "        3: \"Not too likely\",\n",
    "        4: \"Not likely\",\n",
    "        5: \"Leaving labor force\",\n",
    "        -100: 'Unk',\n",
    "        -99: 'Unk',\n",
    "        -98: 'Unk',\n",
    "        -97: 'Unk'\n",
    "    },\n",
    "    \n",
    "    \"SATJOB\": { \n",
    "        -96: 'Unk',\n",
    "        -95: 'Unk',\n",
    "        -90: 'Unk',\n",
    "        -80: 'Unk',\n",
    "        -70: 'Unk',\n",
    "        -60: 'Unk',\n",
    "        -50: 'Unk',\n",
    "        -40: 'Unk',\n",
    "        1: \"Very satisfied\",\n",
    "        2: \"Moderately satisfied\",\n",
    "        3: \"A little dissatisfied\",\n",
    "        4: \"Very dissatisfied\",\n",
    "        -100: 'Unk',\n",
    "        -99: 'Unk',\n",
    "        -98: 'Unk',\n",
    "        -97: 'Unk'\n",
    "    },\n",
    "\n",
    "    \"FEJOBAFF\": {\n",
    "        1: \"Strongly favor\",\n",
    "        2: \"Not strongly favor\",\n",
    "        3: \"Not strongly oppose\",\n",
    "        4: \"Strongly oppose\",\n",
    "        -100: 'Unk',\n",
    "        -99: 'Unk',\n",
    "        -98: 'Unk',        \n",
    "        -97: 'Unk',\n",
    "        -96: 'Unk',\n",
    "        -95: 'Unk',\n",
    "        -90: 'Unk',\n",
    "        -80: 'Unk',\n",
    "        -70: 'Unk',\n",
    "        -60: 'Unk',\n",
    "        -50: 'Unk',\n",
    "        -40: 'Unk',\n",
    "    },\n",
    "\n",
    "    \"DISCAFFM\": {\n",
    "        4: \"VERY UNLIKELY\",\n",
    "        3: \"SOMEWHAT UNLIKELY\",\n",
    "        2: \"SOMEWHAT LIKELY\",\n",
    "        1: \"VERY LIKELY\",\n",
    "        -100: 'Unk',\n",
    "        -99: 'Unk',\n",
    "        -98: 'Unk',        \n",
    "        -97: 'Unk',\n",
    "        -96: 'Unk',\n",
    "        -95: 'Unk',\n",
    "        -90: 'Unk',\n",
    "        -80: 'Unk',\n",
    "        -70: 'Unk',\n",
    "        -60: 'Unk',\n",
    "        -50: 'Unk',\n",
    "        -40: 'Unk'\n",
    "},\n",
    "\n",
    "    \"DISCAFFW\": {\n",
    "        4: \"VERY UNLIKELY\",\n",
    "        3: \"SOMEWHAT UNLIKELY\",\n",
    "        2: \"SOMEWHAT LIKELY\",\n",
    "        1: \"VERY LIKELY\",\n",
    "        -100: 'Unk',\n",
    "        -99: 'Unk',\n",
    "        -98: 'Unk',        \n",
    "        -97: 'Unk',\n",
    "        -96: 'Unk',\n",
    "        -95: 'Unk',\n",
    "        -90: 'Unk',\n",
    "        -80: 'Unk',\n",
    "        -70: 'Unk',\n",
    "        -60: 'Unk',\n",
    "        -50: 'Unk',\n",
    "        -40: 'Unk'\n",
    "},\n",
    "\n",
    "    \"FEHIRE\": {\n",
    "        5: \"STRONGLY DISAGREE\",\n",
    "        4: \"DISAGREE\",\n",
    "        3: \"NEITHER AGREE NOR DISAGREE\",\n",
    "        2: \"AGREE\",\n",
    "        1: \"STRONGLY AGREE\",\n",
    "        -100: 'Unk',\n",
    "        -99: 'Unk',\n",
    "        -98: 'Unk',        \n",
    "        -97: 'Unk',\n",
    "        -96: 'Unk',\n",
    "        -95: 'Unk',\n",
    "        -90: 'Unk',\n",
    "        -80: 'Unk',\n",
    "        -70: 'Unk',\n",
    "        -60: 'Unk',\n",
    "        -50: 'Unk',\n",
    "        -40: 'Unk'\n",
    "},\n",
    "\n",
    "    \"PROMTEFR\": {\n",
    "        4: \"Not at all true\",\n",
    "        3: \"Not too true\",\n",
    "        2: \"Somewhat true\",\n",
    "        1: \"Very true\",\n",
    "        -100: 'Unk',\n",
    "        -99: 'Unk',\n",
    "        -98: 'Unk',        \n",
    "        -97: 'Unk',\n",
    "        -96: 'Unk',\n",
    "        -95: 'Unk',\n",
    "        -90: 'Unk',\n",
    "        -80: 'Unk',\n",
    "        -70: 'Unk',\n",
    "        -60: 'Unk',\n",
    "        -50: 'Unk',\n",
    "        -40: 'Unk'\n",
    "},\n",
    "\n",
    "    \"WKHARSEX\": {\n",
    "        -100: 'Unk',\n",
    "        -99: 'Unk',\n",
    "        -98: 'Unk',        \n",
    "        -97: 'Unk',\n",
    "        -96: 'Unk',\n",
    "        -95: 'Unk',\n",
    "        -90: 'Unk',\n",
    "        -80: 'Unk',\n",
    "        -70: 'Unk',\n",
    "        -60: 'Unk',\n",
    "        -50: 'Unk',\n",
    "        -40: 'Unk',\n",
    "        2: \"NO\",\n",
    "        1: \"YES\"\n",
    "},\n",
    "\n",
    "    \"WKHAROTH\": {\n",
    "        2: \"NO\",\n",
    "        1: \"YES\",\n",
    "        -100: 'Unk',\n",
    "        -99: 'Unk',\n",
    "        -98: 'Unk',        \n",
    "        -97: 'Unk',\n",
    "        -96: 'Unk',\n",
    "        -95: 'Unk',\n",
    "        -90: 'Unk',\n",
    "        -80: 'Unk',\n",
    "        -70: 'Unk',\n",
    "        -60: 'Unk',\n",
    "        -50: 'Unk',\n",
    "        -40: 'Unk'\n",
    "},\n",
    "\n",
    "    \"SATJOB1\": {\n",
    "        4: \"Not at all satisfied\",\n",
    "        3: \"Not too satisfied\",\n",
    "        2: \"Somewhat satisfied\",\n",
    "        1: \"Very satisfied\",\n",
    "        -100: 'Unk',\n",
    "        -99: 'Unk',\n",
    "        -98: 'Unk',        \n",
    "        -97: 'Unk',\n",
    "        -96: 'Unk',\n",
    "        -95: 'Unk',\n",
    "        -90: 'Unk',\n",
    "        -80: 'Unk',\n",
    "        -70: 'Unk',\n",
    "        -60: 'Unk',\n",
    "        -50: 'Unk',\n",
    "        -40: 'Unk'\n",
    "},\n",
    "\n",
    "    \"SEXHAR\": {\n",
    "        3: \"NEVER HAVE WORKED\",\n",
    "        2: \"NO\",\n",
    "        1: \"YES\",\n",
    "        -100: 'Unk',\n",
    "        -99: 'Unk',\n",
    "        -98: 'Unk',        \n",
    "        -97: 'Unk',\n",
    "        -96: 'Unk',\n",
    "        -95: 'Unk',\n",
    "        -90: 'Unk',\n",
    "        -80: 'Unk',\n",
    "        -70: 'Unk',\n",
    "        -60: 'Unk',\n",
    "        -50: 'Unk',\n",
    "        -40: 'Unk'\n",
    "},\n",
    "\n",
    "    \"HAPPY7\": {\n",
    "        1: \"COMPLETELY HAPPY\",\n",
    "        2: \"VERY HAPPY\",\n",
    "        3: \"FAIRLY HAPPY\",\n",
    "        4: \"NEITHER HAPPY NOR UNHAPPY\",\n",
    "        5: \"FAIRLY UNHAPPY\",\n",
    "        6: \"VERY UNHAPPY\",\n",
    "        7: \"COMPLETELY UNHAPPY\",\n",
    "        -100: 'Unk',\n",
    "        -99: 'Unk',\n",
    "        -98: 'Unk',        \n",
    "        -97: 'Unk',\n",
    "        -96: 'Unk',\n",
    "        -95: 'Unk',\n",
    "        -90: 'Unk',\n",
    "        -80: 'Unk',\n",
    "        -70: 'Unk',\n",
    "        -60: 'Unk',\n",
    "        -50: 'Unk',\n",
    "        -40: 'Unk'\n",
    "},\n",
    "    \n",
    "    \"HAPUNHAP\": {\n",
    "        1: \"Very happy\",\n",
    "        2: \"Fairly happy\",\n",
    "        3: \"Not very happy\",\n",
    "        4: \"Not at all happy\",\n",
    "        -100: 'Unk',\n",
    "        -99: 'Unk',\n",
    "        -98: 'Unk',        \n",
    "        -97: 'Unk',\n",
    "        -96: 'Unk',\n",
    "        -95: 'Unk',\n",
    "        -90: 'Unk',\n",
    "        -80: 'Unk',\n",
    "        -70: 'Unk',\n",
    "        -60: 'Unk',\n",
    "        -50: 'Unk',\n",
    "        -40: 'Unk'\n",
    "},\n",
    "\n",
    "    \"BALLOT\": {\n",
    "        1: \"Ballot a\",\n",
    "        2: \"Ballot b\",\n",
    "        3: \"Ballot c\",\n",
    "        4: \"Ballot d\",\n",
    "        -100: 'Unk',\n",
    "        -99: 'Unk',\n",
    "        -98: 'Unk',        \n",
    "        -97: 'Unk',\n",
    "        -96: 'Unk',\n",
    "        -95: 'Unk',\n",
    "        -90: 'Unk',\n",
    "        -80: 'Unk',\n",
    "        -70: 'Unk',\n",
    "        -60: 'Unk',\n",
    "        -50: 'Unk',\n",
    "        -40: 'Unk'\n",
    "},\n",
    "\n",
    "    \"UNHAPPY\": {\n",
    "        5: \"Very often\",\n",
    "        4: \"Often\",\n",
    "        3: \"Sometimes\",\n",
    "        2: \"Rarely\",\n",
    "        1: \"Never\",\n",
    "        -100: 'Unk',\n",
    "        -99: 'Unk',\n",
    "        -98: 'Unk',        \n",
    "        -97: 'Unk',\n",
    "        -96: 'Unk',\n",
    "        -95: 'Unk',\n",
    "        -90: 'Unk',\n",
    "        -80: 'Unk',\n",
    "        -70: 'Unk',\n",
    "        -60: 'Unk',\n",
    "        -50: 'Unk',\n",
    "        -40: 'Unk'\n",
    "},\n",
    "\n",
    "    \"HLTHDEP\": {\n",
    "        1: \"Never\",\n",
    "        2: \"Seldom\",\n",
    "        3: \"Sometimes\",\n",
    "        4: \"Often\",\n",
    "        5: \"Very often\",\n",
    "        -100: 'Unk',\n",
    "        -99: 'Unk',\n",
    "        -98: 'Unk',        \n",
    "        -97: 'Unk',\n",
    "        -96: 'Unk',\n",
    "        -95: 'Unk',\n",
    "        -90: 'Unk',\n",
    "        -80: 'Unk',\n",
    "        -70: 'Unk',\n",
    "        -60: 'Unk',\n",
    "        -50: 'Unk',\n",
    "        -40: 'Unk'\n",
    "}}"
   ]
  },
  {
   "cell_type": "code",
   "execution_count": 6,
   "metadata": {},
   "outputs": [],
   "source": [
    "\n",
    "# 4. Aplicar etiquetas al DataFrame\n",
    "def apply_labels(df, label_dict):\n",
    "    for column, labels in label_dict.items():\n",
    "        if column in df.columns:\n",
    "            df[column] = df[column].map(labels)\n",
    "    return df\n",
    "\n"
   ]
  },
  {
   "cell_type": "code",
   "execution_count": 7,
   "metadata": {},
   "outputs": [
    {
     "data": {
      "text/html": [
       "<div>\n",
       "<style scoped>\n",
       "    .dataframe tbody tr th:only-of-type {\n",
       "        vertical-align: middle;\n",
       "    }\n",
       "\n",
       "    .dataframe tbody tr th {\n",
       "        vertical-align: top;\n",
       "    }\n",
       "\n",
       "    .dataframe thead th {\n",
       "        text-align: right;\n",
       "    }\n",
       "</style>\n",
       "<table border=\"1\" class=\"dataframe\">\n",
       "  <thead>\n",
       "    <tr style=\"text-align: right;\">\n",
       "      <th></th>\n",
       "      <th>BALLOT</th>\n",
       "      <th>WRKSTAT</th>\n",
       "      <th>INDUSTRY</th>\n",
       "      <th>AGE</th>\n",
       "      <th>SEX</th>\n",
       "      <th>RINCOME</th>\n",
       "      <th>HAPPY</th>\n",
       "      <th>HAPMAR</th>\n",
       "      <th>HAPCOHAB</th>\n",
       "      <th>JOBLOSE</th>\n",
       "      <th>SATJOB</th>\n",
       "      <th>FEJOBAFF</th>\n",
       "      <th>DISCAFFM</th>\n",
       "      <th>DISCAFFW</th>\n",
       "      <th>FEHIRE</th>\n",
       "      <th>PROMTEFR</th>\n",
       "      <th>WKHARSEX</th>\n",
       "      <th>WKHAROTH</th>\n",
       "      <th>SATJOB1</th>\n",
       "      <th>SEXHAR</th>\n",
       "      <th>HAPPY7</th>\n",
       "      <th>HAPUNHAP</th>\n",
       "      <th>UNHAPPY</th>\n",
       "      <th>HLTHDEP</th>\n",
       "      <th>ID_</th>\n",
       "      <th>YEAR</th>\n",
       "    </tr>\n",
       "  </thead>\n",
       "  <tbody>\n",
       "    <tr>\n",
       "      <th>0</th>\n",
       "      <td>Ballot a</td>\n",
       "      <td>Job, but not at work</td>\n",
       "      <td>-70</td>\n",
       "      <td>43</td>\n",
       "      <td>Male</td>\n",
       "      <td>Unk</td>\n",
       "      <td>Pretty happy</td>\n",
       "      <td>Unk</td>\n",
       "      <td>Unk</td>\n",
       "      <td>Not likely</td>\n",
       "      <td>Very satisfied</td>\n",
       "      <td>Strongly oppose</td>\n",
       "      <td>SOMEWHAT UNLIKELY</td>\n",
       "      <td>Unk</td>\n",
       "      <td>Unk</td>\n",
       "      <td>Somewhat true</td>\n",
       "      <td>NO</td>\n",
       "      <td>NO</td>\n",
       "      <td>Somewhat satisfied</td>\n",
       "      <td>Unk</td>\n",
       "      <td>Unk</td>\n",
       "      <td>Fairly happy</td>\n",
       "      <td>Unk</td>\n",
       "      <td>Unk</td>\n",
       "      <td>1</td>\n",
       "      <td>2018</td>\n",
       "    </tr>\n",
       "    <tr>\n",
       "      <th>1</th>\n",
       "      <td>Ballot c</td>\n",
       "      <td>Retired</td>\n",
       "      <td>-70</td>\n",
       "      <td>74</td>\n",
       "      <td>Female</td>\n",
       "      <td>Unk</td>\n",
       "      <td>Very happy</td>\n",
       "      <td>Unk</td>\n",
       "      <td>Unk</td>\n",
       "      <td>Unk</td>\n",
       "      <td>Unk</td>\n",
       "      <td>Unk</td>\n",
       "      <td>Unk</td>\n",
       "      <td>Unk</td>\n",
       "      <td>Unk</td>\n",
       "      <td>Unk</td>\n",
       "      <td>Unk</td>\n",
       "      <td>Unk</td>\n",
       "      <td>Unk</td>\n",
       "      <td>Unk</td>\n",
       "      <td>Unk</td>\n",
       "      <td>Unk</td>\n",
       "      <td>Never</td>\n",
       "      <td>Unk</td>\n",
       "      <td>2</td>\n",
       "      <td>2018</td>\n",
       "    </tr>\n",
       "    <tr>\n",
       "      <th>2</th>\n",
       "      <td>Ballot b</td>\n",
       "      <td>Working full time</td>\n",
       "      <td>-70</td>\n",
       "      <td>42</td>\n",
       "      <td>Male</td>\n",
       "      <td>$25000 OR MORE</td>\n",
       "      <td>Very happy</td>\n",
       "      <td>Very happy</td>\n",
       "      <td>Unk</td>\n",
       "      <td>Not likely</td>\n",
       "      <td>Moderately satisfied</td>\n",
       "      <td>Not strongly oppose</td>\n",
       "      <td>SOMEWHAT UNLIKELY</td>\n",
       "      <td>Unk</td>\n",
       "      <td>Unk</td>\n",
       "      <td>Not too true</td>\n",
       "      <td>NO</td>\n",
       "      <td>NO</td>\n",
       "      <td>Somewhat satisfied</td>\n",
       "      <td>Unk</td>\n",
       "      <td>Unk</td>\n",
       "      <td>Very happy</td>\n",
       "      <td>Unk</td>\n",
       "      <td>Unk</td>\n",
       "      <td>3</td>\n",
       "      <td>2018</td>\n",
       "    </tr>\n",
       "    <tr>\n",
       "      <th>3</th>\n",
       "      <td>Ballot b</td>\n",
       "      <td>Working full time</td>\n",
       "      <td>-70</td>\n",
       "      <td>63</td>\n",
       "      <td>Female</td>\n",
       "      <td>$25000 OR MORE</td>\n",
       "      <td>Very happy</td>\n",
       "      <td>Very happy</td>\n",
       "      <td>Unk</td>\n",
       "      <td>Not likely</td>\n",
       "      <td>Very satisfied</td>\n",
       "      <td>Unk</td>\n",
       "      <td>Unk</td>\n",
       "      <td>SOMEWHAT UNLIKELY</td>\n",
       "      <td>AGREE</td>\n",
       "      <td>Not too true</td>\n",
       "      <td>NO</td>\n",
       "      <td>NO</td>\n",
       "      <td>Very satisfied</td>\n",
       "      <td>Unk</td>\n",
       "      <td>Unk</td>\n",
       "      <td>Unk</td>\n",
       "      <td>Rarely</td>\n",
       "      <td>Unk</td>\n",
       "      <td>4</td>\n",
       "      <td>2018</td>\n",
       "    </tr>\n",
       "    <tr>\n",
       "      <th>4</th>\n",
       "      <td>Ballot c</td>\n",
       "      <td>Retired</td>\n",
       "      <td>-70</td>\n",
       "      <td>71</td>\n",
       "      <td>Male</td>\n",
       "      <td>Unk</td>\n",
       "      <td>Pretty happy</td>\n",
       "      <td>Unk</td>\n",
       "      <td>Unk</td>\n",
       "      <td>Unk</td>\n",
       "      <td>Unk</td>\n",
       "      <td>Unk</td>\n",
       "      <td>Unk</td>\n",
       "      <td>Unk</td>\n",
       "      <td>Unk</td>\n",
       "      <td>Unk</td>\n",
       "      <td>Unk</td>\n",
       "      <td>Unk</td>\n",
       "      <td>Unk</td>\n",
       "      <td>Unk</td>\n",
       "      <td>Unk</td>\n",
       "      <td>Unk</td>\n",
       "      <td>Never</td>\n",
       "      <td>Unk</td>\n",
       "      <td>5</td>\n",
       "      <td>2018</td>\n",
       "    </tr>\n",
       "  </tbody>\n",
       "</table>\n",
       "</div>"
      ],
      "text/plain": [
       "     BALLOT               WRKSTAT  INDUSTRY  AGE     SEX         RINCOME  \\\n",
       "0  Ballot a  Job, but not at work       -70   43    Male             Unk   \n",
       "1  Ballot c               Retired       -70   74  Female             Unk   \n",
       "2  Ballot b     Working full time       -70   42    Male  $25000 OR MORE   \n",
       "3  Ballot b     Working full time       -70   63  Female  $25000 OR MORE   \n",
       "4  Ballot c               Retired       -70   71    Male             Unk   \n",
       "\n",
       "          HAPPY      HAPMAR HAPCOHAB     JOBLOSE                SATJOB  \\\n",
       "0  Pretty happy         Unk      Unk  Not likely        Very satisfied   \n",
       "1    Very happy         Unk      Unk         Unk                   Unk   \n",
       "2    Very happy  Very happy      Unk  Not likely  Moderately satisfied   \n",
       "3    Very happy  Very happy      Unk  Not likely        Very satisfied   \n",
       "4  Pretty happy         Unk      Unk         Unk                   Unk   \n",
       "\n",
       "              FEJOBAFF           DISCAFFM           DISCAFFW FEHIRE  \\\n",
       "0      Strongly oppose  SOMEWHAT UNLIKELY                Unk    Unk   \n",
       "1                  Unk                Unk                Unk    Unk   \n",
       "2  Not strongly oppose  SOMEWHAT UNLIKELY                Unk    Unk   \n",
       "3                  Unk                Unk  SOMEWHAT UNLIKELY  AGREE   \n",
       "4                  Unk                Unk                Unk    Unk   \n",
       "\n",
       "        PROMTEFR WKHARSEX WKHAROTH             SATJOB1 SEXHAR HAPPY7  \\\n",
       "0  Somewhat true       NO       NO  Somewhat satisfied    Unk    Unk   \n",
       "1            Unk      Unk      Unk                 Unk    Unk    Unk   \n",
       "2   Not too true       NO       NO  Somewhat satisfied    Unk    Unk   \n",
       "3   Not too true       NO       NO      Very satisfied    Unk    Unk   \n",
       "4            Unk      Unk      Unk                 Unk    Unk    Unk   \n",
       "\n",
       "       HAPUNHAP UNHAPPY HLTHDEP  ID_  YEAR  \n",
       "0  Fairly happy     Unk     Unk    1  2018  \n",
       "1           Unk   Never     Unk    2  2018  \n",
       "2    Very happy     Unk     Unk    3  2018  \n",
       "3           Unk  Rarely     Unk    4  2018  \n",
       "4           Unk   Never     Unk    5  2018  "
      ]
     },
     "execution_count": 7,
     "metadata": {},
     "output_type": "execute_result"
    }
   ],
   "source": [
    "gss = apply_labels(gss, value_labels)\n",
    "gss.head()"
   ]
  },
  {
   "cell_type": "code",
   "execution_count": 8,
   "metadata": {},
   "outputs": [
    {
     "data": {
      "text/plain": [
       "HAPPY7\n",
       "Unk                          7655\n",
       "FAIRLY HAPPY                  865\n",
       "VERY HAPPY                    782\n",
       "COMPLETELY HAPPY              282\n",
       "NEITHER HAPPY NOR UNHAPPY     175\n",
       "FAIRLY UNHAPPY                123\n",
       "VERY UNHAPPY                   34\n",
       "COMPLETELY UNHAPPY              8\n",
       "Name: count, dtype: int64"
      ]
     },
     "execution_count": 8,
     "metadata": {},
     "output_type": "execute_result"
    }
   ],
   "source": [
    "gss[\"HAPPY7\"].value_counts()"
   ]
  },
  {
   "cell_type": "code",
   "execution_count": 9,
   "metadata": {},
   "outputs": [
    {
     "data": {
      "text/plain": [
       "Index(['BALLOT', 'WRKSTAT', 'INDUSTRY', 'AGE', 'SEX', 'RINCOME', 'HAPPY',\n",
       "       'HAPMAR', 'HAPCOHAB', 'JOBLOSE', 'SATJOB', 'FEJOBAFF', 'DISCAFFM',\n",
       "       'DISCAFFW', 'FEHIRE', 'PROMTEFR', 'WKHARSEX', 'WKHAROTH', 'SATJOB1',\n",
       "       'SEXHAR', 'HAPPY7', 'HAPUNHAP', 'UNHAPPY', 'HLTHDEP', 'ID_', 'YEAR'],\n",
       "      dtype='object')"
      ]
     },
     "execution_count": 9,
     "metadata": {},
     "output_type": "execute_result"
    }
   ],
   "source": [
    "gss.columns"
   ]
  },
  {
   "cell_type": "code",
   "execution_count": 10,
   "metadata": {},
   "outputs": [],
   "source": [
    "gss = gss.rename(columns={\n",
    "    'BALLOT': 'Interview_ballot',\n",
    "    'WRKSTAT': 'Labor_force_status',\n",
    "    'INDUSTRY': 'Industry_1970',\n",
    "    'AGE': 'Age',\n",
    "    'SEX': 'Sex',\n",
    "    'RINCOME': 'Income',\n",
    "    'HAPPY': 'General_happiness',\n",
    "    'HAPMAR': 'Marriage_happiness',\n",
    "    'HAPCOHAB': 'Partner_relationship_happiness',\n",
    "    'JOBLOSE': 'Job_loss_probability',\n",
    "    'SATJOB': 'Job_satisfaction',\n",
    "    'FEJOBAFF': 'Opinion_affirmative_action_for_women',\n",
    "    'DISCAFFM': 'Discrimination_against_men_promotion',\n",
    "    'DISCAFFW': 'Discrimination_against_women_promotion',\n",
    "    'FEHIRE': 'Should_hire_and_promote_women',\n",
    "    'PROMTEFR': 'Fair_promotions',\n",
    "    'WKHARSEX': 'Sexually_harassed_at_work_last_12m',\n",
    "    'WKHAROTH': 'Threatened_at_work_last_12m',\n",
    "    'SATJOB1': 'Overall_job_satisfaction',\n",
    "    'SEXHAR': 'Experienced_sexual_harassment',\n",
    "    'HAPPY7': 'Self_perceived_happiness',\n",
    "    'HAPUNHAP': 'Current_life_happiness',\n",
    "    'UNHAPPY': 'Felt_unhappy_past_4_weeks',\n",
    "    'HLTHDEP': 'Felt_depressed_past_4_weeks',\n",
    "    'ID_': 'Respondent_ID',\n",
    "    'YEAR': 'Survey_year'\n",
    "})\n"
   ]
  },
  {
   "cell_type": "code",
   "execution_count": 11,
   "metadata": {},
   "outputs": [
    {
     "data": {
      "text/html": [
       "<div>\n",
       "<style scoped>\n",
       "    .dataframe tbody tr th:only-of-type {\n",
       "        vertical-align: middle;\n",
       "    }\n",
       "\n",
       "    .dataframe tbody tr th {\n",
       "        vertical-align: top;\n",
       "    }\n",
       "\n",
       "    .dataframe thead th {\n",
       "        text-align: right;\n",
       "    }\n",
       "</style>\n",
       "<table border=\"1\" class=\"dataframe\">\n",
       "  <thead>\n",
       "    <tr style=\"text-align: right;\">\n",
       "      <th></th>\n",
       "      <th>Interview_ballot</th>\n",
       "      <th>Labor_force_status</th>\n",
       "      <th>Industry_1970</th>\n",
       "      <th>Age</th>\n",
       "      <th>Sex</th>\n",
       "      <th>Income</th>\n",
       "      <th>General_happiness</th>\n",
       "      <th>Marriage_happiness</th>\n",
       "      <th>Partner_relationship_happiness</th>\n",
       "      <th>Job_loss_probability</th>\n",
       "      <th>Job_satisfaction</th>\n",
       "      <th>Opinion_affirmative_action_for_women</th>\n",
       "      <th>Discrimination_against_men_promotion</th>\n",
       "      <th>Discrimination_against_women_promotion</th>\n",
       "      <th>Should_hire_and_promote_women</th>\n",
       "      <th>Fair_promotions</th>\n",
       "      <th>Sexually_harassed_at_work_last_12m</th>\n",
       "      <th>Threatened_at_work_last_12m</th>\n",
       "      <th>Overall_job_satisfaction</th>\n",
       "      <th>Experienced_sexual_harassment</th>\n",
       "      <th>Self_perceived_happiness</th>\n",
       "      <th>Current_life_happiness</th>\n",
       "      <th>Felt_unhappy_past_4_weeks</th>\n",
       "      <th>Felt_depressed_past_4_weeks</th>\n",
       "      <th>Respondent_ID</th>\n",
       "      <th>Survey_year</th>\n",
       "    </tr>\n",
       "  </thead>\n",
       "  <tbody>\n",
       "    <tr>\n",
       "      <th>0</th>\n",
       "      <td>Ballot a</td>\n",
       "      <td>Job, but not at work</td>\n",
       "      <td>-70</td>\n",
       "      <td>43</td>\n",
       "      <td>Male</td>\n",
       "      <td>Unk</td>\n",
       "      <td>Pretty happy</td>\n",
       "      <td>Unk</td>\n",
       "      <td>Unk</td>\n",
       "      <td>Not likely</td>\n",
       "      <td>Very satisfied</td>\n",
       "      <td>Strongly oppose</td>\n",
       "      <td>SOMEWHAT UNLIKELY</td>\n",
       "      <td>Unk</td>\n",
       "      <td>Unk</td>\n",
       "      <td>Somewhat true</td>\n",
       "      <td>NO</td>\n",
       "      <td>NO</td>\n",
       "      <td>Somewhat satisfied</td>\n",
       "      <td>Unk</td>\n",
       "      <td>Unk</td>\n",
       "      <td>Fairly happy</td>\n",
       "      <td>Unk</td>\n",
       "      <td>Unk</td>\n",
       "      <td>1</td>\n",
       "      <td>2018</td>\n",
       "    </tr>\n",
       "    <tr>\n",
       "      <th>1</th>\n",
       "      <td>Ballot c</td>\n",
       "      <td>Retired</td>\n",
       "      <td>-70</td>\n",
       "      <td>74</td>\n",
       "      <td>Female</td>\n",
       "      <td>Unk</td>\n",
       "      <td>Very happy</td>\n",
       "      <td>Unk</td>\n",
       "      <td>Unk</td>\n",
       "      <td>Unk</td>\n",
       "      <td>Unk</td>\n",
       "      <td>Unk</td>\n",
       "      <td>Unk</td>\n",
       "      <td>Unk</td>\n",
       "      <td>Unk</td>\n",
       "      <td>Unk</td>\n",
       "      <td>Unk</td>\n",
       "      <td>Unk</td>\n",
       "      <td>Unk</td>\n",
       "      <td>Unk</td>\n",
       "      <td>Unk</td>\n",
       "      <td>Unk</td>\n",
       "      <td>Never</td>\n",
       "      <td>Unk</td>\n",
       "      <td>2</td>\n",
       "      <td>2018</td>\n",
       "    </tr>\n",
       "    <tr>\n",
       "      <th>2</th>\n",
       "      <td>Ballot b</td>\n",
       "      <td>Working full time</td>\n",
       "      <td>-70</td>\n",
       "      <td>42</td>\n",
       "      <td>Male</td>\n",
       "      <td>$25000 OR MORE</td>\n",
       "      <td>Very happy</td>\n",
       "      <td>Very happy</td>\n",
       "      <td>Unk</td>\n",
       "      <td>Not likely</td>\n",
       "      <td>Moderately satisfied</td>\n",
       "      <td>Not strongly oppose</td>\n",
       "      <td>SOMEWHAT UNLIKELY</td>\n",
       "      <td>Unk</td>\n",
       "      <td>Unk</td>\n",
       "      <td>Not too true</td>\n",
       "      <td>NO</td>\n",
       "      <td>NO</td>\n",
       "      <td>Somewhat satisfied</td>\n",
       "      <td>Unk</td>\n",
       "      <td>Unk</td>\n",
       "      <td>Very happy</td>\n",
       "      <td>Unk</td>\n",
       "      <td>Unk</td>\n",
       "      <td>3</td>\n",
       "      <td>2018</td>\n",
       "    </tr>\n",
       "    <tr>\n",
       "      <th>3</th>\n",
       "      <td>Ballot b</td>\n",
       "      <td>Working full time</td>\n",
       "      <td>-70</td>\n",
       "      <td>63</td>\n",
       "      <td>Female</td>\n",
       "      <td>$25000 OR MORE</td>\n",
       "      <td>Very happy</td>\n",
       "      <td>Very happy</td>\n",
       "      <td>Unk</td>\n",
       "      <td>Not likely</td>\n",
       "      <td>Very satisfied</td>\n",
       "      <td>Unk</td>\n",
       "      <td>Unk</td>\n",
       "      <td>SOMEWHAT UNLIKELY</td>\n",
       "      <td>AGREE</td>\n",
       "      <td>Not too true</td>\n",
       "      <td>NO</td>\n",
       "      <td>NO</td>\n",
       "      <td>Very satisfied</td>\n",
       "      <td>Unk</td>\n",
       "      <td>Unk</td>\n",
       "      <td>Unk</td>\n",
       "      <td>Rarely</td>\n",
       "      <td>Unk</td>\n",
       "      <td>4</td>\n",
       "      <td>2018</td>\n",
       "    </tr>\n",
       "    <tr>\n",
       "      <th>4</th>\n",
       "      <td>Ballot c</td>\n",
       "      <td>Retired</td>\n",
       "      <td>-70</td>\n",
       "      <td>71</td>\n",
       "      <td>Male</td>\n",
       "      <td>Unk</td>\n",
       "      <td>Pretty happy</td>\n",
       "      <td>Unk</td>\n",
       "      <td>Unk</td>\n",
       "      <td>Unk</td>\n",
       "      <td>Unk</td>\n",
       "      <td>Unk</td>\n",
       "      <td>Unk</td>\n",
       "      <td>Unk</td>\n",
       "      <td>Unk</td>\n",
       "      <td>Unk</td>\n",
       "      <td>Unk</td>\n",
       "      <td>Unk</td>\n",
       "      <td>Unk</td>\n",
       "      <td>Unk</td>\n",
       "      <td>Unk</td>\n",
       "      <td>Unk</td>\n",
       "      <td>Never</td>\n",
       "      <td>Unk</td>\n",
       "      <td>5</td>\n",
       "      <td>2018</td>\n",
       "    </tr>\n",
       "  </tbody>\n",
       "</table>\n",
       "</div>"
      ],
      "text/plain": [
       "  Interview_ballot    Labor_force_status  Industry_1970  Age     Sex  \\\n",
       "0         Ballot a  Job, but not at work            -70   43    Male   \n",
       "1         Ballot c               Retired            -70   74  Female   \n",
       "2         Ballot b     Working full time            -70   42    Male   \n",
       "3         Ballot b     Working full time            -70   63  Female   \n",
       "4         Ballot c               Retired            -70   71    Male   \n",
       "\n",
       "           Income General_happiness Marriage_happiness  \\\n",
       "0             Unk      Pretty happy                Unk   \n",
       "1             Unk        Very happy                Unk   \n",
       "2  $25000 OR MORE        Very happy         Very happy   \n",
       "3  $25000 OR MORE        Very happy         Very happy   \n",
       "4             Unk      Pretty happy                Unk   \n",
       "\n",
       "  Partner_relationship_happiness Job_loss_probability      Job_satisfaction  \\\n",
       "0                            Unk           Not likely        Very satisfied   \n",
       "1                            Unk                  Unk                   Unk   \n",
       "2                            Unk           Not likely  Moderately satisfied   \n",
       "3                            Unk           Not likely        Very satisfied   \n",
       "4                            Unk                  Unk                   Unk   \n",
       "\n",
       "  Opinion_affirmative_action_for_women Discrimination_against_men_promotion  \\\n",
       "0                      Strongly oppose                    SOMEWHAT UNLIKELY   \n",
       "1                                  Unk                                  Unk   \n",
       "2                  Not strongly oppose                    SOMEWHAT UNLIKELY   \n",
       "3                                  Unk                                  Unk   \n",
       "4                                  Unk                                  Unk   \n",
       "\n",
       "  Discrimination_against_women_promotion Should_hire_and_promote_women  \\\n",
       "0                                    Unk                           Unk   \n",
       "1                                    Unk                           Unk   \n",
       "2                                    Unk                           Unk   \n",
       "3                      SOMEWHAT UNLIKELY                         AGREE   \n",
       "4                                    Unk                           Unk   \n",
       "\n",
       "  Fair_promotions Sexually_harassed_at_work_last_12m  \\\n",
       "0   Somewhat true                                 NO   \n",
       "1             Unk                                Unk   \n",
       "2    Not too true                                 NO   \n",
       "3    Not too true                                 NO   \n",
       "4             Unk                                Unk   \n",
       "\n",
       "  Threatened_at_work_last_12m Overall_job_satisfaction  \\\n",
       "0                          NO       Somewhat satisfied   \n",
       "1                         Unk                      Unk   \n",
       "2                          NO       Somewhat satisfied   \n",
       "3                          NO           Very satisfied   \n",
       "4                         Unk                      Unk   \n",
       "\n",
       "  Experienced_sexual_harassment Self_perceived_happiness  \\\n",
       "0                           Unk                      Unk   \n",
       "1                           Unk                      Unk   \n",
       "2                           Unk                      Unk   \n",
       "3                           Unk                      Unk   \n",
       "4                           Unk                      Unk   \n",
       "\n",
       "  Current_life_happiness Felt_unhappy_past_4_weeks  \\\n",
       "0           Fairly happy                       Unk   \n",
       "1                    Unk                     Never   \n",
       "2             Very happy                       Unk   \n",
       "3                    Unk                    Rarely   \n",
       "4                    Unk                     Never   \n",
       "\n",
       "  Felt_depressed_past_4_weeks  Respondent_ID  Survey_year  \n",
       "0                         Unk              1         2018  \n",
       "1                         Unk              2         2018  \n",
       "2                         Unk              3         2018  \n",
       "3                         Unk              4         2018  \n",
       "4                         Unk              5         2018  "
      ]
     },
     "execution_count": 11,
     "metadata": {},
     "output_type": "execute_result"
    }
   ],
   "source": [
    "gss.head()"
   ]
  },
  {
   "cell_type": "code",
   "execution_count": 12,
   "metadata": {},
   "outputs": [
    {
     "data": {
      "text/plain": [
       "(9924, 26)"
      ]
     },
     "execution_count": 12,
     "metadata": {},
     "output_type": "execute_result"
    }
   ],
   "source": [
    "gss.shape"
   ]
  },
  {
   "cell_type": "code",
   "execution_count": 13,
   "metadata": {},
   "outputs": [
    {
     "data": {
      "text/plain": [
       "(5397, 26)"
      ]
     },
     "execution_count": 13,
     "metadata": {},
     "output_type": "execute_result"
    }
   ],
   "source": [
    "gss[gss[\"Sex\"] == \"Female\"].shape"
   ]
  },
  {
   "cell_type": "code",
   "execution_count": 14,
   "metadata": {},
   "outputs": [
    {
     "data": {
      "text/plain": [
       "Sex\n",
       "Female    5397\n",
       "Male      4415\n",
       "Unk         88\n",
       "Name: count, dtype: int64"
      ]
     },
     "execution_count": 14,
     "metadata": {},
     "output_type": "execute_result"
    }
   ],
   "source": [
    "gss[\"Sex\"].value_counts()"
   ]
  },
  {
   "cell_type": "code",
   "execution_count": 15,
   "metadata": {},
   "outputs": [],
   "source": [
    "gss = gss.drop(columns=[\"Interview_ballot\", \"Industry_1970\"])"
   ]
  },
  {
   "cell_type": "code",
   "execution_count": 16,
   "metadata": {},
   "outputs": [
    {
     "name": "stdout",
     "output_type": "stream",
     "text": [
      "<class 'pandas.core.frame.DataFrame'>\n",
      "RangeIndex: 9924 entries, 0 to 9923\n",
      "Data columns (total 24 columns):\n",
      " #   Column                                  Non-Null Count  Dtype \n",
      "---  ------                                  --------------  ----- \n",
      " 0   Labor_force_status                      9924 non-null   object\n",
      " 1   Age                                     9924 non-null   int64 \n",
      " 2   Sex                                     9900 non-null   object\n",
      " 3   Income                                  9924 non-null   object\n",
      " 4   General_happiness                       9924 non-null   object\n",
      " 5   Marriage_happiness                      9924 non-null   object\n",
      " 6   Partner_relationship_happiness          9924 non-null   object\n",
      " 7   Job_loss_probability                    9924 non-null   object\n",
      " 8   Job_satisfaction                        9924 non-null   object\n",
      " 9   Opinion_affirmative_action_for_women    9924 non-null   object\n",
      " 10  Discrimination_against_men_promotion    9924 non-null   object\n",
      " 11  Discrimination_against_women_promotion  9924 non-null   object\n",
      " 12  Should_hire_and_promote_women           9924 non-null   object\n",
      " 13  Fair_promotions                         9924 non-null   object\n",
      " 14  Sexually_harassed_at_work_last_12m      9924 non-null   object\n",
      " 15  Threatened_at_work_last_12m             9924 non-null   object\n",
      " 16  Overall_job_satisfaction                9924 non-null   object\n",
      " 17  Experienced_sexual_harassment           9924 non-null   object\n",
      " 18  Self_perceived_happiness                9924 non-null   object\n",
      " 19  Current_life_happiness                  9924 non-null   object\n",
      " 20  Felt_unhappy_past_4_weeks               9924 non-null   object\n",
      " 21  Felt_depressed_past_4_weeks             9924 non-null   object\n",
      " 22  Respondent_ID                           9924 non-null   int64 \n",
      " 23  Survey_year                             9924 non-null   int64 \n",
      "dtypes: int64(3), object(21)\n",
      "memory usage: 1.8+ MB\n"
     ]
    }
   ],
   "source": [
    "gss.info()"
   ]
  },
  {
   "cell_type": "code",
   "execution_count": 17,
   "metadata": {},
   "outputs": [
    {
     "data": {
      "text/plain": [
       "array(['Unk', '$25000 OR MORE', '$15000 - 19999', '$1000 TO 2999',\n",
       "       '$10000 - 14999', '$8000 TO 9999', '$6000 TO 6999',\n",
       "       '$3000 TO 3999', '$20000 - 24999', '$7000 TO 7999', 'LT $1000',\n",
       "       '$5000 TO 5999', '$4000 TO 4999'], dtype=object)"
      ]
     },
     "execution_count": 17,
     "metadata": {},
     "output_type": "execute_result"
    }
   ],
   "source": [
    "gss[\"Income\"].unique()"
   ]
  },
  {
   "cell_type": "code",
   "execution_count": 18,
   "metadata": {},
   "outputs": [],
   "source": [
    "income_map = {\n",
    "    'Unk': None,\n",
    "    'LT $1000': 500,\n",
    "    '$1000 TO 2999': 2000,\n",
    "    '$3000 TO 3999': 3500,\n",
    "    '$4000 TO 4999': 4500,\n",
    "    '$5000 TO 5999': 5500,\n",
    "    '$6000 TO 6999': 6500,\n",
    "    '$7000 TO 7999': 7500,\n",
    "    '$8000 TO 9999': 9000,\n",
    "    '$10000 - 14999': 12500,\n",
    "    '$15000 - 19999': 17500,\n",
    "    '$20000 - 24999': 22500,\n",
    "    '$25000 OR MORE': 30000  # o puedes poner 25000 como valor mínimo\n",
    "}"
   ]
  },
  {
   "cell_type": "code",
   "execution_count": 19,
   "metadata": {},
   "outputs": [],
   "source": [
    "gss[\"Income_numeric\"] = gss[\"Income\"].map(income_map)\n"
   ]
  },
  {
   "cell_type": "code",
   "execution_count": 20,
   "metadata": {},
   "outputs": [
    {
     "data": {
      "text/plain": [
       "count     5809.000000\n",
       "mean     24817.696678\n",
       "std       8946.460748\n",
       "min        500.000000\n",
       "25%      22500.000000\n",
       "50%      30000.000000\n",
       "75%      30000.000000\n",
       "max      30000.000000\n",
       "Name: Income_numeric, dtype: float64"
      ]
     },
     "execution_count": 20,
     "metadata": {},
     "output_type": "execute_result"
    }
   ],
   "source": [
    "gss[\"Income_numeric\"].describe()"
   ]
  },
  {
   "cell_type": "code",
   "execution_count": 21,
   "metadata": {},
   "outputs": [
    {
     "data": {
      "text/plain": [
       "Index(['Labor_force_status', 'Age', 'Sex', 'Income', 'General_happiness',\n",
       "       'Marriage_happiness', 'Partner_relationship_happiness',\n",
       "       'Job_loss_probability', 'Job_satisfaction',\n",
       "       'Opinion_affirmative_action_for_women',\n",
       "       'Discrimination_against_men_promotion',\n",
       "       'Discrimination_against_women_promotion',\n",
       "       'Should_hire_and_promote_women', 'Fair_promotions',\n",
       "       'Sexually_harassed_at_work_last_12m', 'Threatened_at_work_last_12m',\n",
       "       'Overall_job_satisfaction', 'Experienced_sexual_harassment',\n",
       "       'Self_perceived_happiness', 'Current_life_happiness',\n",
       "       'Felt_unhappy_past_4_weeks', 'Felt_depressed_past_4_weeks',\n",
       "       'Respondent_ID', 'Survey_year', 'Income_numeric'],\n",
       "      dtype='object')"
      ]
     },
     "execution_count": 21,
     "metadata": {},
     "output_type": "execute_result"
    }
   ],
   "source": [
    "gss.columns"
   ]
  },
  {
   "cell_type": "code",
   "execution_count": 22,
   "metadata": {},
   "outputs": [],
   "source": [
    "gss = gss[['Respondent_ID', 'Survey_year', 'Sex', 'Age', 'Income', 'Income_numeric',\n",
    "         'Labor_force_status', 'Job_satisfaction', 'Overall_job_satisfaction',\n",
    "         'Job_loss_probability', 'General_happiness', 'Self_perceived_happiness', \n",
    "         'Current_life_happiness', 'Felt_unhappy_past_4_weeks', 'Felt_depressed_past_4_weeks',\n",
    "         'Marriage_happiness', 'Partner_relationship_happiness',\n",
    "         'Opinion_affirmative_action_for_women', 'Should_hire_and_promote_women',\n",
    "         'Discrimination_against_men_promotion', 'Discrimination_against_women_promotion',\n",
    "         'Fair_promotions', 'Sexually_harassed_at_work_last_12m', \n",
    "         'Threatened_at_work_last_12m', 'Experienced_sexual_harassment']]"
   ]
  },
  {
   "cell_type": "code",
   "execution_count": 23,
   "metadata": {},
   "outputs": [
    {
     "data": {
      "text/html": [
       "<div>\n",
       "<style scoped>\n",
       "    .dataframe tbody tr th:only-of-type {\n",
       "        vertical-align: middle;\n",
       "    }\n",
       "\n",
       "    .dataframe tbody tr th {\n",
       "        vertical-align: top;\n",
       "    }\n",
       "\n",
       "    .dataframe thead th {\n",
       "        text-align: right;\n",
       "    }\n",
       "</style>\n",
       "<table border=\"1\" class=\"dataframe\">\n",
       "  <thead>\n",
       "    <tr style=\"text-align: right;\">\n",
       "      <th></th>\n",
       "      <th>Respondent_ID</th>\n",
       "      <th>Survey_year</th>\n",
       "      <th>Sex</th>\n",
       "      <th>Age</th>\n",
       "      <th>Income</th>\n",
       "      <th>Income_numeric</th>\n",
       "      <th>Labor_force_status</th>\n",
       "      <th>Job_satisfaction</th>\n",
       "      <th>Overall_job_satisfaction</th>\n",
       "      <th>Job_loss_probability</th>\n",
       "      <th>General_happiness</th>\n",
       "      <th>Self_perceived_happiness</th>\n",
       "      <th>Current_life_happiness</th>\n",
       "      <th>Felt_unhappy_past_4_weeks</th>\n",
       "      <th>Felt_depressed_past_4_weeks</th>\n",
       "      <th>Marriage_happiness</th>\n",
       "      <th>Partner_relationship_happiness</th>\n",
       "      <th>Opinion_affirmative_action_for_women</th>\n",
       "      <th>Should_hire_and_promote_women</th>\n",
       "      <th>Discrimination_against_men_promotion</th>\n",
       "      <th>Discrimination_against_women_promotion</th>\n",
       "      <th>Fair_promotions</th>\n",
       "      <th>Sexually_harassed_at_work_last_12m</th>\n",
       "      <th>Threatened_at_work_last_12m</th>\n",
       "      <th>Experienced_sexual_harassment</th>\n",
       "    </tr>\n",
       "  </thead>\n",
       "  <tbody>\n",
       "    <tr>\n",
       "      <th>0</th>\n",
       "      <td>1</td>\n",
       "      <td>2018</td>\n",
       "      <td>Male</td>\n",
       "      <td>43</td>\n",
       "      <td>Unk</td>\n",
       "      <td>NaN</td>\n",
       "      <td>Job, but not at work</td>\n",
       "      <td>Very satisfied</td>\n",
       "      <td>Somewhat satisfied</td>\n",
       "      <td>Not likely</td>\n",
       "      <td>Pretty happy</td>\n",
       "      <td>Unk</td>\n",
       "      <td>Fairly happy</td>\n",
       "      <td>Unk</td>\n",
       "      <td>Unk</td>\n",
       "      <td>Unk</td>\n",
       "      <td>Unk</td>\n",
       "      <td>Strongly oppose</td>\n",
       "      <td>Unk</td>\n",
       "      <td>SOMEWHAT UNLIKELY</td>\n",
       "      <td>Unk</td>\n",
       "      <td>Somewhat true</td>\n",
       "      <td>NO</td>\n",
       "      <td>NO</td>\n",
       "      <td>Unk</td>\n",
       "    </tr>\n",
       "    <tr>\n",
       "      <th>1</th>\n",
       "      <td>2</td>\n",
       "      <td>2018</td>\n",
       "      <td>Female</td>\n",
       "      <td>74</td>\n",
       "      <td>Unk</td>\n",
       "      <td>NaN</td>\n",
       "      <td>Retired</td>\n",
       "      <td>Unk</td>\n",
       "      <td>Unk</td>\n",
       "      <td>Unk</td>\n",
       "      <td>Very happy</td>\n",
       "      <td>Unk</td>\n",
       "      <td>Unk</td>\n",
       "      <td>Never</td>\n",
       "      <td>Unk</td>\n",
       "      <td>Unk</td>\n",
       "      <td>Unk</td>\n",
       "      <td>Unk</td>\n",
       "      <td>Unk</td>\n",
       "      <td>Unk</td>\n",
       "      <td>Unk</td>\n",
       "      <td>Unk</td>\n",
       "      <td>Unk</td>\n",
       "      <td>Unk</td>\n",
       "      <td>Unk</td>\n",
       "    </tr>\n",
       "    <tr>\n",
       "      <th>2</th>\n",
       "      <td>3</td>\n",
       "      <td>2018</td>\n",
       "      <td>Male</td>\n",
       "      <td>42</td>\n",
       "      <td>$25000 OR MORE</td>\n",
       "      <td>30000.0</td>\n",
       "      <td>Working full time</td>\n",
       "      <td>Moderately satisfied</td>\n",
       "      <td>Somewhat satisfied</td>\n",
       "      <td>Not likely</td>\n",
       "      <td>Very happy</td>\n",
       "      <td>Unk</td>\n",
       "      <td>Very happy</td>\n",
       "      <td>Unk</td>\n",
       "      <td>Unk</td>\n",
       "      <td>Very happy</td>\n",
       "      <td>Unk</td>\n",
       "      <td>Not strongly oppose</td>\n",
       "      <td>Unk</td>\n",
       "      <td>SOMEWHAT UNLIKELY</td>\n",
       "      <td>Unk</td>\n",
       "      <td>Not too true</td>\n",
       "      <td>NO</td>\n",
       "      <td>NO</td>\n",
       "      <td>Unk</td>\n",
       "    </tr>\n",
       "    <tr>\n",
       "      <th>3</th>\n",
       "      <td>4</td>\n",
       "      <td>2018</td>\n",
       "      <td>Female</td>\n",
       "      <td>63</td>\n",
       "      <td>$25000 OR MORE</td>\n",
       "      <td>30000.0</td>\n",
       "      <td>Working full time</td>\n",
       "      <td>Very satisfied</td>\n",
       "      <td>Very satisfied</td>\n",
       "      <td>Not likely</td>\n",
       "      <td>Very happy</td>\n",
       "      <td>Unk</td>\n",
       "      <td>Unk</td>\n",
       "      <td>Rarely</td>\n",
       "      <td>Unk</td>\n",
       "      <td>Very happy</td>\n",
       "      <td>Unk</td>\n",
       "      <td>Unk</td>\n",
       "      <td>AGREE</td>\n",
       "      <td>Unk</td>\n",
       "      <td>SOMEWHAT UNLIKELY</td>\n",
       "      <td>Not too true</td>\n",
       "      <td>NO</td>\n",
       "      <td>NO</td>\n",
       "      <td>Unk</td>\n",
       "    </tr>\n",
       "    <tr>\n",
       "      <th>4</th>\n",
       "      <td>5</td>\n",
       "      <td>2018</td>\n",
       "      <td>Male</td>\n",
       "      <td>71</td>\n",
       "      <td>Unk</td>\n",
       "      <td>NaN</td>\n",
       "      <td>Retired</td>\n",
       "      <td>Unk</td>\n",
       "      <td>Unk</td>\n",
       "      <td>Unk</td>\n",
       "      <td>Pretty happy</td>\n",
       "      <td>Unk</td>\n",
       "      <td>Unk</td>\n",
       "      <td>Never</td>\n",
       "      <td>Unk</td>\n",
       "      <td>Unk</td>\n",
       "      <td>Unk</td>\n",
       "      <td>Unk</td>\n",
       "      <td>Unk</td>\n",
       "      <td>Unk</td>\n",
       "      <td>Unk</td>\n",
       "      <td>Unk</td>\n",
       "      <td>Unk</td>\n",
       "      <td>Unk</td>\n",
       "      <td>Unk</td>\n",
       "    </tr>\n",
       "  </tbody>\n",
       "</table>\n",
       "</div>"
      ],
      "text/plain": [
       "   Respondent_ID  Survey_year     Sex  Age          Income  Income_numeric  \\\n",
       "0              1         2018    Male   43             Unk             NaN   \n",
       "1              2         2018  Female   74             Unk             NaN   \n",
       "2              3         2018    Male   42  $25000 OR MORE         30000.0   \n",
       "3              4         2018  Female   63  $25000 OR MORE         30000.0   \n",
       "4              5         2018    Male   71             Unk             NaN   \n",
       "\n",
       "     Labor_force_status      Job_satisfaction Overall_job_satisfaction  \\\n",
       "0  Job, but not at work        Very satisfied       Somewhat satisfied   \n",
       "1               Retired                   Unk                      Unk   \n",
       "2     Working full time  Moderately satisfied       Somewhat satisfied   \n",
       "3     Working full time        Very satisfied           Very satisfied   \n",
       "4               Retired                   Unk                      Unk   \n",
       "\n",
       "  Job_loss_probability General_happiness Self_perceived_happiness  \\\n",
       "0           Not likely      Pretty happy                      Unk   \n",
       "1                  Unk        Very happy                      Unk   \n",
       "2           Not likely        Very happy                      Unk   \n",
       "3           Not likely        Very happy                      Unk   \n",
       "4                  Unk      Pretty happy                      Unk   \n",
       "\n",
       "  Current_life_happiness Felt_unhappy_past_4_weeks  \\\n",
       "0           Fairly happy                       Unk   \n",
       "1                    Unk                     Never   \n",
       "2             Very happy                       Unk   \n",
       "3                    Unk                    Rarely   \n",
       "4                    Unk                     Never   \n",
       "\n",
       "  Felt_depressed_past_4_weeks Marriage_happiness  \\\n",
       "0                         Unk                Unk   \n",
       "1                         Unk                Unk   \n",
       "2                         Unk         Very happy   \n",
       "3                         Unk         Very happy   \n",
       "4                         Unk                Unk   \n",
       "\n",
       "  Partner_relationship_happiness Opinion_affirmative_action_for_women  \\\n",
       "0                            Unk                      Strongly oppose   \n",
       "1                            Unk                                  Unk   \n",
       "2                            Unk                  Not strongly oppose   \n",
       "3                            Unk                                  Unk   \n",
       "4                            Unk                                  Unk   \n",
       "\n",
       "  Should_hire_and_promote_women Discrimination_against_men_promotion  \\\n",
       "0                           Unk                    SOMEWHAT UNLIKELY   \n",
       "1                           Unk                                  Unk   \n",
       "2                           Unk                    SOMEWHAT UNLIKELY   \n",
       "3                         AGREE                                  Unk   \n",
       "4                           Unk                                  Unk   \n",
       "\n",
       "  Discrimination_against_women_promotion Fair_promotions  \\\n",
       "0                                    Unk   Somewhat true   \n",
       "1                                    Unk             Unk   \n",
       "2                                    Unk    Not too true   \n",
       "3                      SOMEWHAT UNLIKELY    Not too true   \n",
       "4                                    Unk             Unk   \n",
       "\n",
       "  Sexually_harassed_at_work_last_12m Threatened_at_work_last_12m  \\\n",
       "0                                 NO                          NO   \n",
       "1                                Unk                         Unk   \n",
       "2                                 NO                          NO   \n",
       "3                                 NO                          NO   \n",
       "4                                Unk                         Unk   \n",
       "\n",
       "  Experienced_sexual_harassment  \n",
       "0                           Unk  \n",
       "1                           Unk  \n",
       "2                           Unk  \n",
       "3                           Unk  \n",
       "4                           Unk  "
      ]
     },
     "execution_count": 23,
     "metadata": {},
     "output_type": "execute_result"
    }
   ],
   "source": [
    "gss.head()"
   ]
  },
  {
   "cell_type": "code",
   "execution_count": 24,
   "metadata": {},
   "outputs": [
    {
     "data": {
      "text/plain": [
       "Respondent_ID                                0\n",
       "Survey_year                                  0\n",
       "Sex                                         24\n",
       "Age                                          0\n",
       "Income                                       0\n",
       "Income_numeric                            4115\n",
       "Labor_force_status                           0\n",
       "Job_satisfaction                             0\n",
       "Overall_job_satisfaction                     0\n",
       "Job_loss_probability                         0\n",
       "General_happiness                            0\n",
       "Self_perceived_happiness                     0\n",
       "Current_life_happiness                       0\n",
       "Felt_unhappy_past_4_weeks                    0\n",
       "Felt_depressed_past_4_weeks                  0\n",
       "Marriage_happiness                           0\n",
       "Partner_relationship_happiness               0\n",
       "Opinion_affirmative_action_for_women         0\n",
       "Should_hire_and_promote_women                0\n",
       "Discrimination_against_men_promotion         0\n",
       "Discrimination_against_women_promotion       0\n",
       "Fair_promotions                              0\n",
       "Sexually_harassed_at_work_last_12m           0\n",
       "Threatened_at_work_last_12m                  0\n",
       "Experienced_sexual_harassment                0\n",
       "dtype: int64"
      ]
     },
     "execution_count": 24,
     "metadata": {},
     "output_type": "execute_result"
    }
   ],
   "source": [
    "gss.isna().sum()"
   ]
  },
  {
   "cell_type": "code",
   "execution_count": 25,
   "metadata": {},
   "outputs": [],
   "source": [
    "gss[\"Sex\"] = gss[\"Sex\"].fillna(\"Unk\")"
   ]
  },
  {
   "cell_type": "code",
   "execution_count": 26,
   "metadata": {},
   "outputs": [
    {
     "data": {
      "text/plain": [
       "0"
      ]
     },
     "execution_count": 26,
     "metadata": {},
     "output_type": "execute_result"
    }
   ],
   "source": [
    "gss[\"Sex\"].isna().sum()"
   ]
  },
  {
   "cell_type": "code",
   "execution_count": 27,
   "metadata": {},
   "outputs": [
    {
     "data": {
      "text/plain": [
       "array([  43,   74,   42,   63,   71,   67,   59,   62,   55,   34,   61,\n",
       "         44,   41,   75,   30,   40,   29,   37,   56,   82,   68,   20,\n",
       "         89,   60,   65,   45,   50,   52,   46,   53,   22,   33,   23,\n",
       "         28,   27,   64,   79,   32,   35,   21,   47,   70,   77,   69,\n",
       "         48,   81,   78,   54,   58,   76,   39,   38,   25,   49,   18,\n",
       "         19,   26,   57,   51,   36,   72,   24,   88,   66,   84,   80,\n",
       "         31,   83,   73,   86,  -99,   85,   87, -100])"
      ]
     },
     "execution_count": 27,
     "metadata": {},
     "output_type": "execute_result"
    }
   ],
   "source": [
    "gss[\"Age\"].unique()"
   ]
  },
  {
   "cell_type": "code",
   "execution_count": 28,
   "metadata": {},
   "outputs": [],
   "source": [
    "gss[\"Age\"] = gss[\"Age\"].replace([-99, -100], np.nan)"
   ]
  },
  {
   "cell_type": "code",
   "execution_count": 29,
   "metadata": {},
   "outputs": [
    {
     "data": {
      "text/plain": [
       "count    9376.000000\n",
       "mean       50.304501\n",
       "std        17.769264\n",
       "min        18.000000\n",
       "25%        35.000000\n",
       "50%        50.000000\n",
       "75%        65.000000\n",
       "max        89.000000\n",
       "Name: Age, dtype: float64"
      ]
     },
     "execution_count": 29,
     "metadata": {},
     "output_type": "execute_result"
    }
   ],
   "source": [
    "gss[\"Age\"].describe()"
   ]
  },
  {
   "cell_type": "markdown",
   "metadata": {},
   "source": [
    "## Visualizaciones"
   ]
  },
  {
   "cell_type": "code",
   "execution_count": 30,
   "metadata": {},
   "outputs": [
    {
     "data": {
      "text/plain": [
       "<Axes: xlabel='Sex', ylabel='Overall_job_satisfaction'>"
      ]
     },
     "execution_count": 30,
     "metadata": {},
     "output_type": "execute_result"
    },
    {
     "data": {
      "image/png": "[encoded data removed]",
      "text/plain": [
       "<Figure size 640x480 with 1 Axes>"
      ]
     },
     "metadata": {},
     "output_type": "display_data"
    }
   ],
   "source": [
    "# Distribución de satisfacción laboral por sexo\n",
    "sns.boxplot(data=gss, x='Sex', y='Overall_job_satisfaction')\n"
   ]
  },
  {
   "cell_type": "code",
   "execution_count": 31,
   "metadata": {},
   "outputs": [
    {
     "data": {
      "text/plain": [
       "<Axes: xlabel='count', ylabel='Job_loss_probability'>"
      ]
     },
     "execution_count": 31,
     "metadata": {},
     "output_type": "execute_result"
    },
    {
     "data": {
      "image/png": "[encoded data removed]",
      "text/plain": [
       "<Figure size 640x480 with 1 Axes>"
      ]
     },
     "metadata": {},
     "output_type": "display_data"
    }
   ],
   "source": [
    "# Probabilidad de perder el empleo por sexo\n",
    "sns.countplot(data=gss,  y='Job_loss_probability', hue=\"Sex\")"
   ]
  },
  {
   "cell_type": "code",
   "execution_count": 32,
   "metadata": {},
   "outputs": [
    {
     "data": {
      "text/plain": [
       "<Axes: xlabel='count', ylabel='Discrimination_against_men_promotion'>"
      ]
     },
     "execution_count": 32,
     "metadata": {},
     "output_type": "execute_result"
    },
    {
     "data": {
      "image/png": "[encoded data removed]",
      "text/plain": [
       "<Figure size 640x480 with 1 Axes>"
      ]
     },
     "metadata": {},
     "output_type": "display_data"
    }
   ],
   "source": [
    "# Discriminación hacia los hombres en promociones por sexo\n",
    "sns.countplot(data=gss, y='Discrimination_against_men_promotion', hue= \"Sex\")"
   ]
  },
  {
   "cell_type": "code",
   "execution_count": 33,
   "metadata": {},
   "outputs": [
    {
     "data": {
      "text/plain": [
       "<Axes: xlabel='count', ylabel='Discrimination_against_women_promotion'>"
      ]
     },
     "execution_count": 33,
     "metadata": {},
     "output_type": "execute_result"
    },
    {
     "data": {
      "image/png": "[encoded data removed]",
      "text/plain": [
       "<Figure size 640x480 with 1 Axes>"
      ]
     },
     "metadata": {},
     "output_type": "display_data"
    }
   ],
   "source": [
    "# Discriminación hacia las mujeres en promociones por sexo\n",
    "sns.countplot(data=gss,  y='Discrimination_against_women_promotion', hue= \"Sex\")"
   ]
  },
  {
   "cell_type": "code",
   "execution_count": 34,
   "metadata": {},
   "outputs": [
    {
     "data": {
      "text/plain": [
       "<Axes: xlabel='Sexually_harassed_at_work_last_12m', ylabel='Count'>"
      ]
     },
     "execution_count": 34,
     "metadata": {},
     "output_type": "execute_result"
    },
    {
     "data": {
      "image/png": "[encoded data removed]",
      "text/plain": [
       "<Figure size 640x480 with 1 Axes>"
      ]
     },
     "metadata": {},
     "output_type": "display_data"
    }
   ],
   "source": [
    "# Acoso laborla por sexo\n",
    "sns.histplot(data=gss, x='Sexually_harassed_at_work_last_12m', hue='Sex', multiple='dodge', discrete=True)"
   ]
  },
  {
   "cell_type": "code",
   "execution_count": 35,
   "metadata": {},
   "outputs": [
    {
     "data": {
      "text/plain": [
       "<Axes: xlabel='Opinion_affirmative_action_for_women'>"
      ]
     },
     "execution_count": 35,
     "metadata": {},
     "output_type": "execute_result"
    },
    {
     "data": {
      "image/png": "[encoded data removed]",
      "text/plain": [
       "<Figure size 640x480 with 1 Axes>"
      ]
     },
     "metadata": {},
     "output_type": "display_data"
    }
   ],
   "source": [
    "pd.crosstab(gss['Opinion_affirmative_action_for_women'], gss['Sex'], normalize='index').plot(kind='bar', stacked=True)\n"
   ]
  },
  {
   "cell_type": "code",
   "execution_count": 36,
   "metadata": {},
   "outputs": [
    {
     "data": {
      "text/plain": [
       "<Axes: xlabel='Sex', ylabel='Income_numeric'>"
      ]
     },
     "execution_count": 36,
     "metadata": {},
     "output_type": "execute_result"
    },
    {
     "data": {
      "image/png": "[encoded data removed]",
      "text/plain": [
       "<Figure size 640x480 with 1 Axes>"
      ]
     },
     "metadata": {},
     "output_type": "display_data"
    }
   ],
   "source": [
    "sns.boxplot(data=gss, x='Sex', y='Income_numeric')"
   ]
  },
  {
   "cell_type": "code",
   "execution_count": 37,
   "metadata": {},
   "outputs": [
    {
     "data": {
      "text/plain": [
       "<Axes: xlabel='count', ylabel='Partner_relationship_happiness'>"
      ]
     },
     "execution_count": 37,
     "metadata": {},
     "output_type": "execute_result"
    },
    {
     "data": {
      "image/png": "[encoded data removed]",
      "text/plain": [
       "<Figure size 640x480 with 1 Axes>"
      ]
     },
     "metadata": {},
     "output_type": "display_data"
    }
   ],
   "source": [
    "sns.countplot(data=gss, hue='Sex', y='Partner_relationship_happiness')"
   ]
  },
  {
   "cell_type": "code",
   "execution_count": 38,
   "metadata": {},
   "outputs": [
    {
     "data": {
      "text/plain": [
       "<Axes: xlabel='Age', ylabel='Felt_depressed_past_4_weeks'>"
      ]
     },
     "execution_count": 38,
     "metadata": {},
     "output_type": "execute_result"
    },
    {
     "data": {
      "image/png": "[encoded data removed]",
      "text/plain": [
       "<Figure size 640x480 with 1 Axes>"
      ]
     },
     "metadata": {},
     "output_type": "display_data"
    }
   ],
   "source": [
    "sns.barplot(data=gss, x='Age', y='Felt_depressed_past_4_weeks', hue='Sex')\n"
   ]
  },
  {
   "cell_type": "code",
   "execution_count": 40,
   "metadata": {},
   "outputs": [
    {
     "name": "stdout",
     "output_type": "stream",
     "text": [
      "Total de filas: 9924\n",
      "Filas con más del 68% de 'Unk': 190\n",
      "Filas que se quedarán: 9734\n"
     ]
    }
   ],
   "source": [
    "# Suponiendo que tu DataFrame se llama df\n",
    "total_filas = len(gss)\n",
    "\n",
    "# Contar cuántas columnas tienen \"Unk\" por fila\n",
    "unk_counts = (gss == \"Unk\").sum(axis=1)\n",
    "\n",
    "# Definir el umbral (por ejemplo, 70% de columnas con \"Unk\")\n",
    "threshold = int(0.7 * gss.shape[1])\n",
    "\n",
    "# Ver cuántas filas cumplen con esa condición (las que vamos a eliminar)\n",
    "filas_a_eliminar = (unk_counts > threshold).sum()\n",
    "\n",
    "print(f\"Total de filas: {total_filas}\")\n",
    "print(f\"Filas con más del {round(threshold / gss.shape[1] * 100)}% de 'Unk': {filas_a_eliminar}\")\n",
    "print(f\"Filas que se quedarán: {total_filas - filas_a_eliminar}\")\n",
    "\n",
    "\n"
   ]
  },
  {
   "cell_type": "code",
   "execution_count": 41,
   "metadata": {},
   "outputs": [],
   "source": [
    "# Filtrar el DataFrame\n",
    "gss_cleaned = gss[unk_counts <= threshold]"
   ]
  },
  {
   "cell_type": "code",
   "execution_count": 44,
   "metadata": {},
   "outputs": [
    {
     "data": {
      "text/plain": [
       "Self_perceived_happiness\n",
       "Unk                          7655\n",
       "FAIRLY HAPPY                  865\n",
       "VERY HAPPY                    782\n",
       "COMPLETELY HAPPY              282\n",
       "NEITHER HAPPY NOR UNHAPPY     175\n",
       "FAIRLY UNHAPPY                123\n",
       "VERY UNHAPPY                   34\n",
       "COMPLETELY UNHAPPY              8\n",
       "Name: count, dtype: int64"
      ]
     },
     "execution_count": 44,
     "metadata": {},
     "output_type": "execute_result"
    }
   ],
   "source": [
    "gss[\"Self_perceived_happiness\"].value_counts()"
   ]
  },
  {
   "cell_type": "code",
   "execution_count": 46,
   "metadata": {},
   "outputs": [
    {
     "data": {
      "text/plain": [
       "Felt_depressed_past_4_weeks\n",
       "Unk           8797\n",
       "Never          386\n",
       "Seldom         310\n",
       "Sometimes      270\n",
       "Often           91\n",
       "Very often      70\n",
       "Name: count, dtype: int64"
      ]
     },
     "execution_count": 46,
     "metadata": {},
     "output_type": "execute_result"
    }
   ],
   "source": [
    "gss[\"Felt_depressed_past_4_weeks\"].value_counts()"
   ]
  },
  {
   "cell_type": "code",
   "execution_count": 47,
   "metadata": {},
   "outputs": [
    {
     "data": {
      "text/plain": [
       "Partner_relationship_happiness\n",
       "Unk              9015\n",
       "Very happy        523\n",
       "Pretty happy      343\n",
       "Not too happy      43\n",
       "Name: count, dtype: int64"
      ]
     },
     "execution_count": 47,
     "metadata": {},
     "output_type": "execute_result"
    }
   ],
   "source": [
    "gss[\"Partner_relationship_happiness\"].value_counts()"
   ]
  },
  {
   "cell_type": "code",
   "execution_count": 43,
   "metadata": {},
   "outputs": [],
   "source": [
    "gss_cleaned.to_csv(\"files/gss_data_clean.csv\", index=False)"
   ]
  },
  {
   "cell_type": "code",
   "execution_count": null,
   "metadata": {},
   "outputs": [],
   "source": []
  }
 ],
 "metadata": {
  "kernelspec": {
   "display_name": "base",
   "language": "python",
   "name": "python3"
  },
  "language_info": {
   "codemirror_mode": {
    "name": "ipython",
    "version": 3
   },
   "file_extension": ".py",
   "mimetype": "text/x-python",
   "name": "python",
   "nbconvert_exporter": "python",
   "pygments_lexer": "ipython3",
   "version": "3.12.7"
  }
 },
 "nbformat": 4,
 "nbformat_minor": 2
}
