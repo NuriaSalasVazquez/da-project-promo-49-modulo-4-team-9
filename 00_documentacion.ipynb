{
 "cells": [
  {
   "cell_type": "markdown",
   "metadata": {},
   "source": [
    "## 🎯 1. ENFOQUE DEL PROYECTO\n",
    "### 💥 Objetivo central:\n",
    "Utilizar la Masculinity Survey 2018 como punto de partida para mostrar cómo las ideas tradicionales sobre la masculinidad perpetúan desigualdades de género, afectan directamente a las mujeres y refuerzan estructuras de poder que les benefician a ellos, a costa de nosotras.\n",
    "\n",
    "### 🧭 FASE 1: ¿Qué piensan ellos?\n",
    "Analizar la encuesta no para entender a los hombres, sino para:\n",
    "- Evidenciar cuántos siguen creyendo en estereotipos machistas.\n",
    "- Mostrar la persistencia de creencias peligrosas (liderazgo masculino, rechazo a mostrar emociones, visión de las mujeres como “cuidadoras”, etc.).\n",
    "- Dividir por edad, nivel educativo, etc., para ver si la cosa mejora en generaciones jóvenes (spoiler: a veces no mucho…).\n",
    "\n",
    "👀 Ejemplo de insight sarcástico: \"El 60% cree que los hombres deberían ser los proveedores del hogar. El 100% de las mujeres encuestadas están cansadas.\"\n",
    "\n",
    "### 🧭 FASE 2: ¿Y cómo nos afecta esto a nosotras?\n",
    "Cruzar estos datos con realidades tangibles para las mujeres:\n",
    "\n",
    "🧩 Posibles temas clave para contrastar:\n",
    "- Brecha salarial y techo de cristal → mientras ellos creen que “ya somos iguales”.\n",
    "- Infrarrepresentación política y económica.\n",
    "- Cargas de cuidado no remunerado.\n",
    "- Violencia de género y feminicidios.\n",
    "- Acceso a salud, educación y derechos reproductivos.\n",
    "\n",
    "📊 Mostrar la desconexión brutal entre su percepción y nuestra realidad.\n",
    "\n",
    "##### 🎭 TOQUE DE HUMOR: sátira feminista inteligente\n",
    "- “Guía ilustrada para detectar un macho deconstruido™ (spoiler: no se detectan muchos)”\n",
    "- “Ranking de excusas para no hacer tareas del hogar, puntuadas por nivel de patetismo”\n",
    "- “¿Cuánto poder tienes según ellos?” vs. “¿Cuánto poder tienes en tu vida real?”\n",
    "- Encuesta dice que...\tDatos del Census muestran que...\n",
    "    - “Los hombres deben ser los líderes del hogar”\t+60% de mujeres en EE.UU. son quienes mantienen económicamente sus hogares.\n",
    "    - “Las mujeres ya tienen igualdad”\tLas mujeres ganan 83 centavos por cada dólar de un hombre.\n",
    "    - “Ellas eligen carreras menos pagadas”\tLas que eligen STEM ganan menos que los hombres con el mismo título.\n",
    "\n",
    "💡 Título tipo:\n",
    "\n",
    "“La masculinidad moderna: cómo sus creencias siguen jodiéndonos la vida”\n",
    "\n",
    "### 🧱 FASE 3: Narrativa\n",
    "Posible estructura:\n",
    "- Intro provocadora: “Hicimos una encuesta a hombres sobre masculinidad… y salimos peor de lo que entramos.”\n",
    "- Lo que piensan vs lo que pasa: Cifras de la encuesta confrontadas con datos de desigualdad real.\n",
    "- Visuales impactantes: gráficos, memes, frases, mapas…\n",
    "- Conclusión contundente: no queremos que “ellos sufran menos”, queremos que nosotras vivamos mejor."
   ]
  },
  {
   "cell_type": "markdown",
   "metadata": {},
   "source": [
    "## 🎯 2. Temas en los que nos vamos a centrar\n",
    "\n",
    "- Q4: Masculinidad y Q7 :Estilo de vida(Punto de partida y contexto)\n",
    "\n",
    "- Q8: Preocupaciones diarias (Cuidados a nivel familiar, solo proveedor, porcentaje de mujeres amas de casa vs. hombres)\n",
    "\n",
    "- Q10: Ventajas de ser hombre en el trabajo \n",
    "Q11: Desventajas (Techo de cristal, representación de mujeres por sectores, Salarios)\n",
    "\n",
    "- Q21: Limites (Contexto de Q12)\n",
    "Q12: Respuesta al acoso y Metoo (Acoso y violencia sexual en el trabajo)\n",
    "\n",
    "\n",
    "\n",
    "\n",
    "\n"
   ]
  },
  {
   "cell_type": "markdown",
   "metadata": {},
   "source": [
    "## 3. Fuentes de datos\n",
    "\n",
    "- Encuesta sobre masculinidad en EEUU, 2018, ......\n",
    "    - Repositorio link \n",
    "    - [\"Masculinity Survey 2018\"](files/masculinity-survey.csv)\n",
    "    - [\"documentacion\"](files/masculinity-survey.pdf)\n",
    "    - [\"respuestas\"](files/raw-responses.csv)\n",
    "    - [\"csv_limpio\"](files/transformed_responses.csv)\n",
    "\n",
    "- Recopilación de datos por sexo, edad, estatus de trabajo, nivel educativo y profesional, dedicación de tiempo en 2018, 2019, 2020:\n",
    "    - https://timeuse.ipums.org/ \n",
    "    - [\"atus_00004.dat.gz\" ](files/atus_00004.dat.gz)\n",
    "    - [\"reading_info.sas\"](files/reading_info.sas)\n",
    "    - [\"encuesta_atusdata\"](files/encuesta_atusdata.csv)\n"
   ]
  },
  {
   "cell_type": "markdown",
   "metadata": {},
   "source": [
    "## 4. Conetido de la Encuesta AtusData\n",
    "\n",
    "1. YEAR\tSurvey year\n",
    "2. CASEID\tATUS Case ID\n",
    "3. SERIAL\tHousehold serial number\n",
    "4. PERNUM\tPerson number (general)\n",
    "5. LINENO\tPerson line number\n",
    "6. AGE\tAge\n",
    "7. SEX\tSex\n",
    "8. MARST\tMarital status\n",
    "9. EDUC\tHighest level of school completed\n",
    "10. EDUCYRS\tYears of education\n",
    "11. EMPSTAT\tLabor force status\n",
    "12. MULTJOBS\tHas more than one job\n",
    "13. CLWKR\tClass of worker, main job\n",
    "14. OCC2\tGeneral occupation category, main job\n",
    "15. IND2\tGeneral industry classification, main job\n",
    "16. FULLPART\tFull time/part time employment status\n",
    "17. UHRSWORKT\tHours usually worked per week\n",
    "18. EARNWEEK\tWeekly earnings\n",
    "19. KIDUND18\tOwn child under 18 in household\n",
    "\n",
    "\n",
    "\n",
    "#### Time Use Variable\tLabel\n",
    "20. Cuidados\tACT: Caring for and helping household members\n",
    "21. Deporte\t    ACT: Sports, exercise, and recreation\n",
    "22. Educacion\t    ACT: Educational activities\n",
    "23. Espiritualidad\t    ACT: Religious and spiritual activities\n",
    "24. Hogar\t    ACT: Household activities\n",
    "25. Personal\tACT: Personal care\n",
    "26. Socializar\tACT: Socializing, relaxing, and leisure\n",
    "27. Trabajo\t    ACT: Working and Work-related Activities\n",
    "28. Viajando\tACT: Traveling\n",
    "29. Voluntariado\tACT: Volunteer activities"
   ]
  },
  {
   "cell_type": "markdown",
   "metadata": {},
   "source": [
    "https://public.tableau.com/app/profile/andrea.gauger.donayre/viz/Masc_Survey/niveleducativosexo?publish=yes"
   ]
  }
 ],
 "metadata": {
  "kernelspec": {
   "display_name": "base",
   "language": "python",
   "name": "python3"
  },
  "language_info": {
   "name": "python",
   "version": "3.12.7"
  }
 },
 "nbformat": 4,
 "nbformat_minor": 2
}
